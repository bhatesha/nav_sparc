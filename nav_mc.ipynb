{
 "cells": [
  {
   "cell_type": "code",
   "execution_count": 22,
   "id": "47406760-4454-43c0-aace-201c3d07e827",
   "metadata": {},
   "outputs": [],
   "source": [
    "import os \n",
    "import pandas as pd\n",
    "import numpy as np\n",
    "import matplotlib.pyplot as plt\n",
    "from scipy.constants import parsec as pc\n",
    "from scipy.special import i0,i1,k0,k1\n",
    "from scipy.constants import G\n",
    "from scipy.optimize import curve_fit\n",
    "import emcee"
   ]
  },
  {
   "cell_type": "code",
   "execution_count": 12,
   "id": "364aea70-2dab-4989-88a3-d3708af3fdce",
   "metadata": {},
   "outputs": [],
   "source": [
    "msun=1.989e+30\n",
    "kpc=1e+3*pc\n",
    "g1=4.302e-6"
   ]
  },
  {
   "cell_type": "code",
   "execution_count": 13,
   "id": "9124abbb-12c4-4f81-9c17-7cf263473aa1",
   "metadata": {},
   "outputs": [],
   "source": [
    "def vdisk(r,sigma0,rd):\n",
    "    const=4*np.pi*G*sigma0*rd\n",
    "    sec=i0(r/(2*rd))*k0(r/(2*rd))-i1(r/(2*rd))*k1(r/(2*rd))\n",
    "    temp=1e-3*np.sqrt(np.abs(const*(r/(2*rd))**2*sec))\n",
    "    return temp"
   ]
  },
  {
   "cell_type": "code",
   "execution_count": 14,
   "id": "7d59ca51-bfae-45d9-9bd9-62e5e70c6e8a",
   "metadata": {},
   "outputs": [],
   "source": [
    "dir=\"/home/esha/Documents/anurag/nav\"\n",
    "column_names=[\"Rad\",\"Vobs\",\"errV\",\"Vgas\",\"Vdisk\",\"Vbul\",\"SBdisk\",\"SBbul\"]\n",
    "gal_data=[]\n",
    "for gal in os.listdir(dir):\n",
    "    \n",
    "    if gal.endswith(\".csv\"):\n",
    "        \n",
    "        gal_path=os.path.join(dir,gal)\n",
    "        gal_df=pd.read_csv(gal_path,names=column_names)\n",
    "        gal_df['Galaxy']=os.path.splitext(gal)[0]\n",
    "        gal_data.append(gal_df)\n",
    "combined_df=pd.concat(gal_data,ignore_index=True)"
   ]
  },
  {
   "cell_type": "code",
   "execution_count": 15,
   "id": "aad58c11-6230-4ac9-8b4e-06f69cd13225",
   "metadata": {},
   "outputs": [],
   "source": [
    "for col in column_names:\n",
    "    combined_df[col]=pd.to_numeric(combined_df[col])"
   ]
  },
  {
   "cell_type": "code",
   "execution_count": 16,
   "id": "c061d547-52b3-4f7d-89cd-fd4afa822a09",
   "metadata": {},
   "outputs": [],
   "source": [
    "uniq_gal=combined_df['Galaxy'].unique()\n",
    "col=plt.cm.rainbow(np.linspace(0,1,len(uniq_gal)))\n",
    "\n",
    "                   "
   ]
  },
  {
   "cell_type": "code",
   "execution_count": 17,
   "id": "10c983ab-5a05-4fb8-b460-4a17b8f810f4",
   "metadata": {},
   "outputs": [],
   "source": [
    "with open('metadata.txt','r') as file:\n",
    "    lines=file.readlines()\n",
    "data=[]\n",
    "for line in lines:\n",
    "    field=line.strip().split()\n",
    "    data.append(field)\n",
    "\n",
    "    "
   ]
  },
  {
   "cell_type": "code",
   "execution_count": 18,
   "id": "a4f58977-fcd5-4021-8a5f-4f7c9d426a5e",
   "metadata": {},
   "outputs": [],
   "source": [
    "Md=[]\n",
    "rd=[]\n",
    "for i in range(len(data)):\n",
    "    if data[i][0] in uniq_gal:\n",
    "        try:\n",
    "            Md.append(pd.to_numeric(data[i][12]))\n",
    "            rd.append(pd.to_numeric(data[i][11]))\n",
    "        except ValueError:\n",
    "            print(\"gal not found\")"
   ]
  },
  {
   "cell_type": "code",
   "execution_count": 19,
   "id": "9ef4e911-ef08-4475-ad60-a0e177470472",
   "metadata": {},
   "outputs": [],
   "source": [
    "def log_likelihood(theta, r, v_obs, v_err):\n",
    "    sigma0, rd = theta\n",
    "    model = vdisk(r, sigma0, rd)\n",
    "    sigma2 = v_err ** 2\n",
    "    return -0.5 * np.sum((v_obs - model) ** 2 / sigma2 + np.log(sigma2))\n",
    "\n",
    "def log_prior(theta):\n",
    "    sigma0, rd = theta\n",
    "    if 0 < sigma0 < 1e12 and 0 < rd < 1e3:  # Adjust bounds as necessary\n",
    "        return 0.0\n",
    "    return -np.inf\n",
    "\n",
    "def log_probability(theta, r, v_obs, v_err):\n",
    "    lp = log_prior(theta)\n",
    "    if not np.isfinite(lp):\n",
    "        return -np.inf\n",
    "    return lp + log_likelihood(theta, r, v_obs, v_err)\n"
   ]
  },
  {
   "cell_type": "code",
   "execution_count": 23,
   "id": "dbfa1ff6-a919-495e-9a3e-1fe6c9b31a76",
   "metadata": {},
   "outputs": [
    {
     "ename": "ValueError",
     "evalue": "Initial state has a large condition number. Make sure that your walkers are linearly independent for the best performance",
     "output_type": "error",
     "traceback": [
      "\u001b[0;31m---------------------------------------------------------------------------\u001b[0m",
      "\u001b[0;31mValueError\u001b[0m                                Traceback (most recent call last)",
      "Cell \u001b[0;32mIn[23], line 21\u001b[0m\n\u001b[1;32m     18\u001b[0m pos \u001b[38;5;241m=\u001b[39m initial_guess \u001b[38;5;241m+\u001b[39m \u001b[38;5;241m1e-4\u001b[39m \u001b[38;5;241m*\u001b[39m np\u001b[38;5;241m.\u001b[39mrandom\u001b[38;5;241m.\u001b[39mrandn(nwalkers, ndim)\n\u001b[1;32m     20\u001b[0m sampler \u001b[38;5;241m=\u001b[39m emcee\u001b[38;5;241m.\u001b[39mEnsembleSampler(nwalkers, ndim, log_probability, args\u001b[38;5;241m=\u001b[39m(r, v_obs, v_err))\n\u001b[0;32m---> 21\u001b[0m \u001b[43msampler\u001b[49m\u001b[38;5;241;43m.\u001b[39;49m\u001b[43mrun_mcmc\u001b[49m\u001b[43m(\u001b[49m\u001b[43mpos\u001b[49m\u001b[43m,\u001b[49m\u001b[43m \u001b[49m\u001b[43mnsteps\u001b[49m\u001b[43m,\u001b[49m\u001b[43m \u001b[49m\u001b[43mprogress\u001b[49m\u001b[38;5;241;43m=\u001b[39;49m\u001b[38;5;28;43;01mTrue\u001b[39;49;00m\u001b[43m)\u001b[49m\n\u001b[1;32m     23\u001b[0m samples \u001b[38;5;241m=\u001b[39m sampler\u001b[38;5;241m.\u001b[39mget_chain(discard\u001b[38;5;241m=\u001b[39m\u001b[38;5;241m100\u001b[39m, thin\u001b[38;5;241m=\u001b[39m\u001b[38;5;241m15\u001b[39m, flat\u001b[38;5;241m=\u001b[39m\u001b[38;5;28;01mTrue\u001b[39;00m)\n\u001b[1;32m     25\u001b[0m \u001b[38;5;66;03m# Plot the corner plot\u001b[39;00m\n",
      "File \u001b[0;32m~/Documents/jupyter-env/lib/python3.10/site-packages/emcee/ensemble.py:443\u001b[0m, in \u001b[0;36mEnsembleSampler.run_mcmc\u001b[0;34m(self, initial_state, nsteps, **kwargs)\u001b[0m\n\u001b[1;32m    440\u001b[0m     initial_state \u001b[38;5;241m=\u001b[39m \u001b[38;5;28mself\u001b[39m\u001b[38;5;241m.\u001b[39m_previous_state\n\u001b[1;32m    442\u001b[0m results \u001b[38;5;241m=\u001b[39m \u001b[38;5;28;01mNone\u001b[39;00m\n\u001b[0;32m--> 443\u001b[0m \u001b[38;5;28;01mfor\u001b[39;00m results \u001b[38;5;129;01min\u001b[39;00m \u001b[38;5;28mself\u001b[39m\u001b[38;5;241m.\u001b[39msample(initial_state, iterations\u001b[38;5;241m=\u001b[39mnsteps, \u001b[38;5;241m*\u001b[39m\u001b[38;5;241m*\u001b[39mkwargs):\n\u001b[1;32m    444\u001b[0m     \u001b[38;5;28;01mpass\u001b[39;00m\n\u001b[1;32m    446\u001b[0m \u001b[38;5;66;03m# Store so that the ``initial_state=None`` case will work\u001b[39;00m\n",
      "File \u001b[0;32m~/Documents/jupyter-env/lib/python3.10/site-packages/emcee/ensemble.py:312\u001b[0m, in \u001b[0;36mEnsembleSampler.sample\u001b[0;34m(self, initial_state, log_prob0, rstate0, blobs0, iterations, tune, skip_initial_state_check, thin_by, thin, store, progress, progress_kwargs)\u001b[0m\n\u001b[1;32m    308\u001b[0m     \u001b[38;5;28;01mraise\u001b[39;00m \u001b[38;5;167;01mValueError\u001b[39;00m(\u001b[38;5;124mf\u001b[39m\u001b[38;5;124m\"\u001b[39m\u001b[38;5;124mincompatible input dimensions \u001b[39m\u001b[38;5;132;01m{\u001b[39;00mstate_shape\u001b[38;5;132;01m}\u001b[39;00m\u001b[38;5;124m\"\u001b[39m)\n\u001b[1;32m    309\u001b[0m \u001b[38;5;28;01mif\u001b[39;00m (\u001b[38;5;129;01mnot\u001b[39;00m skip_initial_state_check) \u001b[38;5;129;01mand\u001b[39;00m (\n\u001b[1;32m    310\u001b[0m     \u001b[38;5;129;01mnot\u001b[39;00m walkers_independent(state\u001b[38;5;241m.\u001b[39mcoords)\n\u001b[1;32m    311\u001b[0m ):\n\u001b[0;32m--> 312\u001b[0m     \u001b[38;5;28;01mraise\u001b[39;00m \u001b[38;5;167;01mValueError\u001b[39;00m(\n\u001b[1;32m    313\u001b[0m         \u001b[38;5;124m\"\u001b[39m\u001b[38;5;124mInitial state has a large condition number. \u001b[39m\u001b[38;5;124m\"\u001b[39m\n\u001b[1;32m    314\u001b[0m         \u001b[38;5;124m\"\u001b[39m\u001b[38;5;124mMake sure that your walkers are linearly independent for the \u001b[39m\u001b[38;5;124m\"\u001b[39m\n\u001b[1;32m    315\u001b[0m         \u001b[38;5;124m\"\u001b[39m\u001b[38;5;124mbest performance\u001b[39m\u001b[38;5;124m\"\u001b[39m\n\u001b[1;32m    316\u001b[0m     )\n\u001b[1;32m    318\u001b[0m \u001b[38;5;66;03m# Try to set the initial value of the random number generator. This\u001b[39;00m\n\u001b[1;32m    319\u001b[0m \u001b[38;5;66;03m# fails silently if it doesn't work but that's what we want because\u001b[39;00m\n\u001b[1;32m    320\u001b[0m \u001b[38;5;66;03m# we'll just interpret any garbage as letting the generator stay in\u001b[39;00m\n\u001b[1;32m    321\u001b[0m \u001b[38;5;66;03m# it's current state.\u001b[39;00m\n\u001b[1;32m    322\u001b[0m \u001b[38;5;28;01mif\u001b[39;00m rstate0 \u001b[38;5;129;01mis\u001b[39;00m \u001b[38;5;129;01mnot\u001b[39;00m \u001b[38;5;28;01mNone\u001b[39;00m:\n",
      "\u001b[0;31mValueError\u001b[0m: Initial state has a large condition number. Make sure that your walkers are linearly independent for the best performance"
     ]
    }
   ],
   "source": [
    "nwalkers = 32\n",
    "ndim = 2\n",
    "nsteps = 5000\n",
    "output_file = 'galaxy_fits.txt'\n",
    "with open(output_file, 'w') as f:\n",
    "    f.write(\"Galaxy\\tMd_fit\\tRd_fit\\n\")  # Header line\n",
    "\n",
    "    for gal in uniq_gal:\n",
    "        dx = combined_df[combined_df['Galaxy'] == gal]\n",
    "        r = dx['Rad'].values * kpc\n",
    "        v_obs = dx['Vdisk'].values\n",
    "        v_err = 0.1 * v_obs  # Assume 10% error for simplicity\n",
    "        m0=(Md[uniq_gal.tolist().index(gal)]*msun)/(pc**2)\n",
    "        r0=rd[uniq_gal.tolist().index(gal)]*kpc\n",
    "        initial_guess=[m0,r0]\n",
    "\n",
    "        #initial_guess = np.array([1e9, 10])  # Adjust based on expected values\n",
    "        pos = initial_guess + 1e-4 * np.random.randn(nwalkers, ndim)\n",
    "\n",
    "        sampler = emcee.EnsembleSampler(nwalkers, ndim, log_probability, args=(r, v_obs, v_err))\n",
    "        sampler.run_mcmc(pos, nsteps, progress=True)\n",
    "\n",
    "        samples = sampler.get_chain(discard=100, thin=15, flat=True)\n",
    "\n",
    "        # Plot the corner plot\n",
    "        fig = corner.corner(samples, labels=[\"sigma0\", \"rd\"], truths=initial_guess)\n",
    "        plt.savefig(f\"{gal}_corner_plot.png\")\n",
    "        plt.close()\n",
    "\n",
    "        # Calculate median values and save results\n",
    "        sigma0_mcmc, rd_mcmc = np.median(samples, axis=0)\n",
    "        f.write(f\"{gal}\\t{sigma0_mcmc}\\t{rd_mcmc}\\n\")\n",
    "\n",
    "        # Plot the fit\n",
    "        plt.figure()\n",
    "        plt.scatter(r, v_obs, label='Observed Data')\n",
    "        r_fit = np.linspace(min(r), max(r), 500)\n",
    "        v_fit = vdisk(r_fit, sigma0_mcmc, rd_mcmc)\n",
    "        plt.plot(r_fit, v_fit, label='Fitted Model', color='red')\n",
    "        plt.xlabel('Radius (kpc)')\n",
    "        plt.ylabel('Vdisk')\n",
    "        plt.title(f'Galaxy: {gal}')\n",
    "        plt.legend()\n",
    "        plt.grid(True)\n",
    "        plt.savefig(f\"{gal}_vdisk_fit.png\")\n",
    "        plt.close()\n"
   ]
  },
  {
   "cell_type": "code",
   "execution_count": null,
   "id": "d1274ee4-a839-4f62-a70a-facf5589b525",
   "metadata": {},
   "outputs": [],
   "source": []
  }
 ],
 "metadata": {
  "kernelspec": {
   "display_name": "Python 3 (ipykernel)",
   "language": "python",
   "name": "python3"
  },
  "language_info": {
   "codemirror_mode": {
    "name": "ipython",
    "version": 3
   },
   "file_extension": ".py",
   "mimetype": "text/x-python",
   "name": "python",
   "nbconvert_exporter": "python",
   "pygments_lexer": "ipython3",
   "version": "3.10.12"
  }
 },
 "nbformat": 4,
 "nbformat_minor": 5
}

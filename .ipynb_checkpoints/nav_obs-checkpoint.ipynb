{
 "cells": [
  {
   "cell_type": "code",
   "execution_count": 2,
   "id": "b258b3e9-98df-4cdf-89ec-79fc705d73f7",
   "metadata": {},
   "outputs": [],
   "source": [
    "import numpy as np\n",
    "import pandas as pd\n",
    "import matplotlib.pyplot as plt\n",
    "import os\n",
    "import scipy as sc\n",
    "from scipy.special import i0, i1, k0, k1\n",
    "from scipy.interpolate import interp1d\n",
    "G=4.302e-6\n",
    "import seaborn as sns"
   ]
  },
  {
   "cell_type": "code",
   "execution_count": 3,
   "id": "611e3981-0762-4da7-8ce4-e8f5da3800a6",
   "metadata": {},
   "outputs": [],
   "source": [
    "#meta data for SPARC\n",
    "dir=\"/home/esha/Documents/anurag/nav\"\n",
    "meta=[]\n",
    "with open('meta.txt','r') as file: \n",
    "    line=file.readlines()\n",
    "for lines in line:\n",
    "    text=lines.strip().split()\n",
    "    meta.append(text)"
   ]
  },
  {
   "cell_type": "code",
   "execution_count": 39,
   "id": "9efd319a-967a-49ce-bde5-d0506eb0ea3b",
   "metadata": {},
   "outputs": [],
   "source": [
    "#Galaxies rejected if Q=3, i<30\n",
    "gal_rej=[]\n",
    "for i in range(len(meta)):\n",
    "    if int(meta[i][-2])==3 or float(meta[i][5])<30:\n",
    "        gal_rej.append(meta[i][0])"
   ]
  },
  {
   "cell_type": "code",
   "execution_count": 5,
   "id": "491458a4-071c-4d13-a597-6c03d7abdd33",
   "metadata": {},
   "outputs": [],
   "source": [
    "cat_gal=[]\n",
    "for i in range(len(meta)):\n",
    "    cat_gal.append(meta[i][0])"
   ]
  },
  {
   "cell_type": "code",
   "execution_count": 6,
   "id": "9117a5df-3459-4eaa-b794-62bdfee12d21",
   "metadata": {},
   "outputs": [
    {
     "data": {
      "text/plain": [
       "175"
      ]
     },
     "execution_count": 6,
     "metadata": {},
     "output_type": "execute_result"
    }
   ],
   "source": [
    "len(cat_gal)"
   ]
  },
  {
   "cell_type": "code",
   "execution_count": 7,
   "id": "21bac594-1f0f-47b3-916c-4a9eece0e552",
   "metadata": {},
   "outputs": [
    {
     "data": {
      "text/plain": [
       "['F561-1',\n",
       " 'F563-1',\n",
       " 'F563-V1',\n",
       " 'F563-V2',\n",
       " 'F567-2',\n",
       " 'F568-1',\n",
       " 'F574-2',\n",
       " 'F579-V1',\n",
       " 'NGC1705',\n",
       " 'NGC2366',\n",
       " 'NGC4214',\n",
       " 'NGC4389',\n",
       " 'PGC51017',\n",
       " 'UGC01230',\n",
       " 'UGC02023',\n",
       " 'UGC02455',\n",
       " 'UGC04305',\n",
       " 'UGC05999',\n",
       " 'UGC06628',\n",
       " 'UGC06973',\n",
       " 'UGC07608',\n",
       " 'UGCA281']"
      ]
     },
     "execution_count": 7,
     "metadata": {},
     "output_type": "execute_result"
    }
   ],
   "source": [
    "gal_rej"
   ]
  },
  {
   "cell_type": "markdown",
   "id": "59943bf8-a4d9-4ea2-a61c-91c9a680810f",
   "metadata": {},
   "source": [
    "#### Bulge potential"
   ]
  },
  {
   "cell_type": "code",
   "execution_count": 8,
   "id": "7ae4568f-c20e-40ea-a444-c0809fc91ecd",
   "metadata": {},
   "outputs": [],
   "source": [
    "def bulge_pot(r,rho_0,a):\n",
    "    temp=-(G*2*np.pi*rho_0*(a**3))/(r+a)\n",
    "    return temp"
   ]
  },
  {
   "cell_type": "markdown",
   "id": "e58b9b99-30ea-4675-b4ff-7786b6796249",
   "metadata": {},
   "source": [
    "#### Disk potential"
   ]
  },
  {
   "cell_type": "code",
   "execution_count": 9,
   "id": "911e4552-7d6f-4dbd-b565-121f1feace09",
   "metadata": {},
   "outputs": [],
   "source": [
    "def disk_pot(r,sg0,R_d):\n",
    "    y=r/(2*R_d)\n",
    "    temp=-np.pi*G*sg0*r*(i0(y)*k1(y)-i1(y)*k0(y))\n",
    "    return temp   "
   ]
  },
  {
   "cell_type": "markdown",
   "id": "f333b814-f28d-4270-a0d2-a0209d069656",
   "metadata": {},
   "source": [
    "#### Gas potential"
   ]
  },
  {
   "cell_type": "code",
   "execution_count": 10,
   "id": "0679b932-e368-4aaf-8799-3abd4b30e953",
   "metadata": {},
   "outputs": [],
   "source": [
    "def gas_pot(r,HI_mass,r_dg):\n",
    "    sg0 = 2*HI_mass/(3*np.pi*r_dg**2)\n",
    "    y=r/(2*r_dg)\n",
    "    temp=-np.pi*G*sg0*r*(i0(y)*k1(y)-i1(y)*k0(y))\n",
    "    return temp"
   ]
  },
  {
   "cell_type": "markdown",
   "id": "0eb4688a-7cc5-4412-b145-e7a7edb3d538",
   "metadata": {},
   "source": [
    "#### Net potential"
   ]
  },
  {
   "cell_type": "code",
   "execution_count": 11,
   "id": "14d5ea5e-738b-4407-a781-19ee66f6cb3d",
   "metadata": {},
   "outputs": [],
   "source": [
    "def pot(x,gammad,gammab,rho_b,ab,sg0d,R_d,HI_mass,r_g):\n",
    "    temp=gammab*bulge_pot(x,rho_b,ab)+gammad*disk_pot(x,sg0d,R_d)+gas_pot(x,HI_mass,r_g)\n",
    "    return temp"
   ]
  },
  {
   "cell_type": "code",
   "execution_count": 12,
   "id": "c50ae4ed-6285-4ab8-86b9-8d4728c04a72",
   "metadata": {},
   "outputs": [
    {
     "data": {
      "text/html": [
       "<div>\n",
       "<style scoped>\n",
       "    .dataframe tbody tr th:only-of-type {\n",
       "        vertical-align: middle;\n",
       "    }\n",
       "\n",
       "    .dataframe tbody tr th {\n",
       "        vertical-align: top;\n",
       "    }\n",
       "\n",
       "    .dataframe thead th {\n",
       "        text-align: right;\n",
       "    }\n",
       "</style>\n",
       "<table border=\"1\" class=\"dataframe\">\n",
       "  <thead>\n",
       "    <tr style=\"text-align: right;\">\n",
       "      <th></th>\n",
       "      <th>Rad</th>\n",
       "      <th>Vobs</th>\n",
       "      <th>errV</th>\n",
       "      <th>Vgas</th>\n",
       "      <th>Vdisk</th>\n",
       "      <th>Vbul</th>\n",
       "      <th>SBdisk</th>\n",
       "      <th>SBbul</th>\n",
       "      <th>Galaxy</th>\n",
       "    </tr>\n",
       "  </thead>\n",
       "  <tbody>\n",
       "    <tr>\n",
       "      <th>0</th>\n",
       "      <td>0.63</td>\n",
       "      <td>262.0</td>\n",
       "      <td>73.6</td>\n",
       "      <td>-0.79</td>\n",
       "      <td>82.82</td>\n",
       "      <td>389.26</td>\n",
       "      <td>1981.83</td>\n",
       "      <td>3538.94</td>\n",
       "      <td>UGC03546</td>\n",
       "    </tr>\n",
       "    <tr>\n",
       "      <th>1</th>\n",
       "      <td>0.79</td>\n",
       "      <td>250.0</td>\n",
       "      <td>55.5</td>\n",
       "      <td>-0.85</td>\n",
       "      <td>98.90</td>\n",
       "      <td>366.12</td>\n",
       "      <td>1833.29</td>\n",
       "      <td>1444.35</td>\n",
       "      <td>UGC03546</td>\n",
       "    </tr>\n",
       "    <tr>\n",
       "      <th>2</th>\n",
       "      <td>0.95</td>\n",
       "      <td>241.0</td>\n",
       "      <td>42.9</td>\n",
       "      <td>-0.88</td>\n",
       "      <td>113.48</td>\n",
       "      <td>343.54</td>\n",
       "      <td>1695.88</td>\n",
       "      <td>614.37</td>\n",
       "      <td>UGC03546</td>\n",
       "    </tr>\n",
       "    <tr>\n",
       "      <th>3</th>\n",
       "      <td>1.11</td>\n",
       "      <td>234.0</td>\n",
       "      <td>31.9</td>\n",
       "      <td>-0.87</td>\n",
       "      <td>126.74</td>\n",
       "      <td>322.48</td>\n",
       "      <td>1568.78</td>\n",
       "      <td>245.76</td>\n",
       "      <td>UGC03546</td>\n",
       "    </tr>\n",
       "    <tr>\n",
       "      <th>4</th>\n",
       "      <td>1.27</td>\n",
       "      <td>228.0</td>\n",
       "      <td>28.8</td>\n",
       "      <td>-0.80</td>\n",
       "      <td>138.83</td>\n",
       "      <td>303.96</td>\n",
       "      <td>1451.19</td>\n",
       "      <td>56.22</td>\n",
       "      <td>UGC03546</td>\n",
       "    </tr>\n",
       "  </tbody>\n",
       "</table>\n",
       "</div>"
      ],
      "text/plain": [
       "    Rad   Vobs  errV  Vgas   Vdisk    Vbul   SBdisk    SBbul    Galaxy\n",
       "0  0.63  262.0  73.6 -0.79   82.82  389.26  1981.83  3538.94  UGC03546\n",
       "1  0.79  250.0  55.5 -0.85   98.90  366.12  1833.29  1444.35  UGC03546\n",
       "2  0.95  241.0  42.9 -0.88  113.48  343.54  1695.88   614.37  UGC03546\n",
       "3  1.11  234.0  31.9 -0.87  126.74  322.48  1568.78   245.76  UGC03546\n",
       "4  1.27  228.0  28.8 -0.80  138.83  303.96  1451.19    56.22  UGC03546"
      ]
     },
     "execution_count": 12,
     "metadata": {},
     "output_type": "execute_result"
    }
   ],
   "source": [
    "# SPARC data\n",
    "data_dir=\"/home/esha/Documents/anurag/nav/sparc\"\n",
    "column_names=[\"Rad\",\"Vobs\",\"errV\",\"Vgas\",\"Vdisk\",\"Vbul\",\"SBdisk\",\"SBbul\"]\n",
    "\n",
    "gal_data=[]\n",
    "for gal in os.listdir(data_dir):\n",
    "    if gal.endswith('.csv'):\n",
    "        gal_dir=os.path.join(data_dir,gal)\n",
    "        data=pd.read_csv(gal_dir,names=column_names)\n",
    "        data['Galaxy']=os.path.splitext(gal)[0]\n",
    "        gal_data.append(data)\n",
    "        \n",
    "combined_gal=pd.concat(gal_data)\n",
    "combined_gal.head()"
   ]
  },
  {
   "cell_type": "code",
   "execution_count": 14,
   "id": "0ee760cf-342d-4634-b0b7-0e80c70edd67",
   "metadata": {},
   "outputs": [
    {
     "data": {
      "text/plain": [
       "array(['UGC03546', 'UGC05764', 'DDO168', 'NGC5055', 'F565-V2'],\n",
       "      dtype=object)"
      ]
     },
     "execution_count": 14,
     "metadata": {},
     "output_type": "execute_result"
    }
   ],
   "source": [
    "sparc_gal=combined_gal['Galaxy'].unique()\n",
    "sparc_gal[:5]"
   ]
  },
  {
   "cell_type": "code",
   "execution_count": 15,
   "id": "bc97fbef-ee5c-49b1-b4c2-d0041c71f8fb",
   "metadata": {},
   "outputs": [
    {
     "data": {
      "text/plain": [
       "12"
      ]
     },
     "execution_count": 15,
     "metadata": {},
     "output_type": "execute_result"
    }
   ],
   "source": [
    "len(gal)"
   ]
  },
  {
   "cell_type": "code",
   "execution_count": 17,
   "id": "ff302c30-28b1-4448-9c05-7dbd19afa2fc",
   "metadata": {},
   "outputs": [
    {
     "data": {
      "text/plain": [
       "set()"
      ]
     },
     "execution_count": 17,
     "metadata": {},
     "output_type": "execute_result"
    }
   ],
   "source": [
    "(set(sparc_gal).symmetric_difference(set(cat_gal))).symmetric_difference(gal_rej)"
   ]
  },
  {
   "cell_type": "code",
   "execution_count": 22,
   "id": "791c21f5-2345-4d6f-8dd2-9285088a2690",
   "metadata": {},
   "outputs": [],
   "source": [
    "gal_with_bul=[]#galaxies with bulge\n",
    "gal_without_bul=[]#galaxies with no bulge components\n",
    "#sparc_gal: array for the whole sparc galaxies (153)\n",
    "for galaxy in sparc_gal:\n",
    "    gal_dat=combined_gal[combined_gal['Galaxy']==galaxy]\n",
    "    bulge_v=gal_dat['Vbul']\n",
    "    if (bulge_v.sum()==0):\n",
    "        gal_without_bul.append(galaxy)\n",
    "    else:\n",
    "        gal_with_bul.append(galaxy)\n",
    "    #print(bulge_v.sum())"
   ]
  },
  {
   "cell_type": "code",
   "execution_count": 23,
   "id": "50006337-a7e4-449e-8147-8a8273c88570",
   "metadata": {},
   "outputs": [
    {
     "data": {
      "text/plain": [
       "153"
      ]
     },
     "execution_count": 23,
     "metadata": {},
     "output_type": "execute_result"
    }
   ],
   "source": [
    "len(gal_with_bul+gal_without_bul)"
   ]
  },
  {
   "cell_type": "markdown",
   "id": "cb03f24f-fbfb-4829-876f-640dbcf80cab",
   "metadata": {},
   "source": [
    "#### $\\delta$ $V_{obs}$ where rn*rmax=r\n",
    " $\\gamma_d=0.5$ and $\\gamma_B=0.6$"
   ]
  },
  {
   "cell_type": "code",
   "execution_count": 26,
   "id": "f4187187-cf23-49a4-aeed-117771b5463c",
   "metadata": {},
   "outputs": [],
   "source": [
    "def vbar(gal,rad):\n",
    "    dsingle=combined_gal[combined_gal['Galaxy']==gal]\n",
    "    gas_ip=interp1d(dsingle['Rad'],dsingle['Vgas'],fill_value=\"extrapolate\")\n",
    "    disk_ip=interp1d(dsingle['Rad'],dsingle['Vdisk'],fill_value=\"extrapolate\")\n",
    "    bulge_ip=interp1d(dsingle['Rad'],dsingle['Vbul'],fill_value=\"extrapolate\")\n",
    "    temp=np.sqrt(0.5*disk_ip(rad)**2+(abs(gas_ip(rad))*gas_ip(rad))+0.6*bulge_ip(rad)**2)\n",
    "    return temp"
   ]
  },
  {
   "cell_type": "code",
   "execution_count": 27,
   "id": "1d1d1fd4-72a8-48a5-8ee2-7b0f1ef79b57",
   "metadata": {},
   "outputs": [],
   "source": [
    "delta_vobs=[]\n",
    "rn_obs=[]\n",
    "def deltaobs(df,gal):\n",
    "    gal_data=df[df['Galaxy']==gal]\n",
    "    rad=gal_data['Rad'].values#galaxy radius\n",
    "    vgas=gal_data['Vgas'].values\n",
    "    vdisk=gal_data['Vdisk'].values\n",
    "    #print(vdisk)\n",
    "    vbulge=gal_data['Vbul'].values\n",
    "    vobs=gal_data['Vobs'].values\n",
    "    vobs_ip=interp1d(rad,vobs,fill_value=\"extrapolate\")\n",
    "    rx = np.linspace(rad.min(), rad.max(), len(rad))  \n",
    "    rmax=rad.max()\n",
    "    rtheta=rad/rmax\n",
    "    numerator= (vobs_ip(rad)**2-vbar(gal,rad)**2)#nav numerator at r\n",
    "    denom=(vobs_ip(rmax)**2-vbar(gal,rmax)**2)#nav denominator at r=rmax\n",
    "    delta_v=numerator/denom\n",
    "    rn_obs.append(rtheta)\n",
    "    delta_vobs.append(delta_v)\n",
    "    print(f\"{gal}\")\n",
    "    #print(delta_v)\n",
    "    return delta_v"
   ]
  },
  {
   "cell_type": "code",
   "execution_count": 28,
   "id": "fc5a0912-f3cd-4036-b5db-1d071835c6c5",
   "metadata": {},
   "outputs": [
    {
     "name": "stdout",
     "output_type": "stream",
     "text": [
      "UGC03546\n",
      "NGC6674\n",
      "NGC5033\n",
      "NGC6946\n",
      "NGC2841\n",
      "NGC7331\n",
      "UGC03580\n",
      "UGC08699\n",
      "NGC4138\n",
      "NGC7814\n",
      "NGC6195\n",
      "NGC4013\n",
      "NGC4157\n",
      "UGC09133\n",
      "NGC0891\n",
      "NGC5985\n",
      "UGC02885\n",
      "UGC06787\n",
      "UGC06614\n",
      "IC4202\n",
      "NGC2955\n",
      "UGC03205\n",
      "UGC02953\n",
      "UGC11914\n",
      "UGC02487\n",
      "UGC06786\n",
      "UGC05253\n",
      "NGC5005\n",
      "NGC4217\n",
      "NGC2683\n",
      "UGC02916\n"
     ]
    }
   ],
   "source": [
    "for gal in gal_with_bul:\n",
    "    try:\n",
    "        net = deltaobs(combined_gal, gal)\n",
    "    except Exception as e:\n",
    "        print(f\"Error processing galaxy {gal}: {e}\")"
   ]
  },
  {
   "cell_type": "code",
   "execution_count": 37,
   "id": "05b1b98d-ab73-4062-9802-897114c0ec37",
   "metadata": {},
   "outputs": [
    {
     "data": {
      "text/html": [
       "<div>\n",
       "<style scoped>\n",
       "    .dataframe tbody tr th:only-of-type {\n",
       "        vertical-align: middle;\n",
       "    }\n",
       "\n",
       "    .dataframe tbody tr th {\n",
       "        vertical-align: top;\n",
       "    }\n",
       "\n",
       "    .dataframe thead th {\n",
       "        text-align: right;\n",
       "    }\n",
       "</style>\n",
       "<table border=\"1\" class=\"dataframe\">\n",
       "  <thead>\n",
       "    <tr style=\"text-align: right;\">\n",
       "      <th></th>\n",
       "      <th>rn_obs</th>\n",
       "      <th>delta_vobs</th>\n",
       "    </tr>\n",
       "  </thead>\n",
       "  <tbody>\n",
       "    <tr>\n",
       "      <th>1125</th>\n",
       "      <td>0.501316</td>\n",
       "      <td>1.336912</td>\n",
       "    </tr>\n",
       "    <tr>\n",
       "      <th>1126</th>\n",
       "      <td>0.582632</td>\n",
       "      <td>1.357982</td>\n",
       "    </tr>\n",
       "    <tr>\n",
       "      <th>1127</th>\n",
       "      <td>0.666842</td>\n",
       "      <td>1.304118</td>\n",
       "    </tr>\n",
       "    <tr>\n",
       "      <th>1128</th>\n",
       "      <td>0.750789</td>\n",
       "      <td>1.089911</td>\n",
       "    </tr>\n",
       "    <tr>\n",
       "      <th>1129</th>\n",
       "      <td>0.834737</td>\n",
       "      <td>0.961586</td>\n",
       "    </tr>\n",
       "  </tbody>\n",
       "</table>\n",
       "</div>"
      ],
      "text/plain": [
       "        rn_obs  delta_vobs\n",
       "1125  0.501316    1.336912\n",
       "1126  0.582632    1.357982\n",
       "1127  0.666842    1.304118\n",
       "1128  0.750789    1.089911\n",
       "1129  0.834737    0.961586"
      ]
     },
     "execution_count": 37,
     "metadata": {},
     "output_type": "execute_result"
    }
   ],
   "source": [
    "comb_robs=np.concatenate((rn_obs))\n",
    "comb_vobs=np.concatenate((delta_vobs))\n",
    "obs_df=pd.DataFrame({'rn_obs': comb_robs,'delta_vobs': comb_vobs})\n",
    "#data included lies within the rn:(0.2,.09)\n",
    "cut_nav=obs_df[(obs_df['rn_obs']>=0.2) & (obs_df['rn_obs']<=0.9)]\n",
    "cut_nav.tail()"
   ]
  },
  {
   "cell_type": "markdown",
   "id": "5ec43c77-6e5d-445e-b93e-02845dcc826c",
   "metadata": {},
   "source": [
    "#### The 2-D kde plot for the data of galaxies with no bulge\n",
    "    Implemented using seaborn \"kde\" plot, for a gaussian kernel having silverman bandwidth"
   ]
  },
  {
   "cell_type": "code",
   "execution_count": 38,
   "id": "a2fa3b10-8548-4138-8132-d924cddcb8f1",
   "metadata": {},
   "outputs": [
    {
     "data": {
      "image/png": "[encoded data removed]",
      "text/plain": [
       "<Figure size 640x480 with 1 Axes>"
      ]
     },
     "metadata": {},
     "output_type": "display_data"
    }
   ],
   "source": [
    "plt.scatter(cut_nav['rn_obs'],cut_nav['delta_vobs'],color='blue',alpha=0.05)\n",
    "sns.kdeplot(data=cut_nav,x='rn_obs',y='delta_vobs',levels=3,bw_method='silverman',color='black')\n",
    "plt.xlim(0.2, 0.9)\n",
    "plt.xlabel(\"$r_n$\")\n",
    "plt.ylabel(\"$\\delta v_{obs}$\")\n",
    "plt.savefig(\"obs_nav.jpg\")"
   ]
  },
  {
   "cell_type": "code",
   "execution_count": null,
   "id": "a20596dc-1436-4687-ac38-555f544209a6",
   "metadata": {},
   "outputs": [],
   "source": []
  },
  {
   "cell_type": "code",
   "execution_count": null,
   "id": "374bddeb-f349-457a-a226-870157270e9a",
   "metadata": {},
   "outputs": [],
   "source": []
  }
 ],
 "metadata": {
  "kernelspec": {
   "display_name": "Python 3 (ipykernel)",
   "language": "python",
   "name": "python3"
  },
  "language_info": {
   "codemirror_mode": {
    "name": "ipython",
    "version": 3
   },
   "file_extension": ".py",
   "mimetype": "text/x-python",
   "name": "python",
   "nbconvert_exporter": "python",
   "pygments_lexer": "ipython3",
   "version": "3.10.12"
  }
 },
 "nbformat": 4,
 "nbformat_minor": 5
}
